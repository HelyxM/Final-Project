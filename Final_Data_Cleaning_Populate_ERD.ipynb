{
 "cells": [
  {
   "cell_type": "code",
   "execution_count": 1,
   "id": "1b27492c",
   "metadata": {},
   "outputs": [],
   "source": [
    "import pandas as pd\n",
    "import numpy as np\n",
    "import re\n",
    "import time\n",
    "\n",
    "import sqlalchemy\n",
    "from sqlalchemy import create_engine\n",
    "import io\n",
    "import psycopg2\n",
    "\n",
    "from pathlib import Path\n",
    "from collections import Counter"
   ]
  },
  {
   "cell_type": "code",
   "execution_count": 2,
   "id": "5c9175b3",
   "metadata": {},
   "outputs": [],
   "source": [
    "# File imports\n",
    "# ratings_path = \"Data/ratings_clean.csv\"\n",
    "# crew_path = \"Data/crew_clean.csv\"\n",
    "# movies_path = \"Data/movies_clean.csv\"\n",
    "# genres_path = \"New_Data/movie_genres_clean.csv\"\n",
    "# metadata_path = \"Data/export_metadata.csv\"\n",
    "cast_path = \"New_Data/movie_cast.csv\""
   ]
  },
  {
   "cell_type": "code",
   "execution_count": 3,
   "id": "713c13d1",
   "metadata": {},
   "outputs": [],
   "source": [
    "# ratings_df = pd.read_csv(ratings_path, low_memory=False)\n",
    "# crew_df = pd.read_csv(crew_path, low_memory=False)\n",
    "# movies_df = pd.read_csv(movies_path, low_memory=False)\n",
    "# genres_df = pd.read_csv(genres_path, low_memory=False)\n",
    "# meta_df = pd.read_csv(metadata_path, low_memory=False)\n",
    "cast_df = pd.read_csv(cast_path, low_memory=False)"
   ]
  },
  {
   "cell_type": "code",
   "execution_count": 4,
   "id": "257b3df9",
   "metadata": {},
   "outputs": [],
   "source": [
    "# meta_df.head()"
   ]
  },
  {
   "cell_type": "code",
   "execution_count": 5,
   "id": "4df3dce9",
   "metadata": {},
   "outputs": [],
   "source": [
    "# ratings_df.head()"
   ]
  },
  {
   "cell_type": "code",
   "execution_count": 6,
   "id": "4895ddce",
   "metadata": {},
   "outputs": [],
   "source": [
    "cast_df[\"index\"] = cast_df.index\n",
    "Cast_Index = cast_df[\"index\"] + 1\n",
    "cast_df[\"mc_id\"] = Cast_Index"
   ]
  },
  {
   "cell_type": "code",
   "execution_count": 7,
   "id": "fe89c9e9",
   "metadata": {},
   "outputs": [
    {
     "data": {
      "text/html": [
       "<div>\n",
       "<style scoped>\n",
       "    .dataframe tbody tr th:only-of-type {\n",
       "        vertical-align: middle;\n",
       "    }\n",
       "\n",
       "    .dataframe tbody tr th {\n",
       "        vertical-align: top;\n",
       "    }\n",
       "\n",
       "    .dataframe thead th {\n",
       "        text-align: right;\n",
       "    }\n",
       "</style>\n",
       "<table border=\"1\" class=\"dataframe\">\n",
       "  <thead>\n",
       "    <tr style=\"text-align: right;\">\n",
       "      <th></th>\n",
       "      <th>movie_id</th>\n",
       "      <th>cast_id</th>\n",
       "      <th>mc_id</th>\n",
       "    </tr>\n",
       "  </thead>\n",
       "  <tbody>\n",
       "    <tr>\n",
       "      <th>0</th>\n",
       "      <td>1</td>\n",
       "      <td>31</td>\n",
       "      <td>1</td>\n",
       "    </tr>\n",
       "    <tr>\n",
       "      <th>1</th>\n",
       "      <td>2</td>\n",
       "      <td>2157</td>\n",
       "      <td>2</td>\n",
       "    </tr>\n",
       "    <tr>\n",
       "      <th>2</th>\n",
       "      <td>3</td>\n",
       "      <td>6837</td>\n",
       "      <td>3</td>\n",
       "    </tr>\n",
       "    <tr>\n",
       "      <th>3</th>\n",
       "      <td>4</td>\n",
       "      <td>8851</td>\n",
       "      <td>4</td>\n",
       "    </tr>\n",
       "    <tr>\n",
       "      <th>4</th>\n",
       "      <td>5</td>\n",
       "      <td>67773</td>\n",
       "      <td>5</td>\n",
       "    </tr>\n",
       "  </tbody>\n",
       "</table>\n",
       "</div>"
      ],
      "text/plain": [
       "   movie_id  cast_id  mc_id\n",
       "0         1       31      1\n",
       "1         2     2157      2\n",
       "2         3     6837      3\n",
       "3         4     8851      4\n",
       "4         5    67773      5"
      ]
     },
     "execution_count": 7,
     "metadata": {},
     "output_type": "execute_result"
    }
   ],
   "source": [
    "cast_df = cast_df.drop(columns=[\"index\"])\n",
    "cast_df.head()"
   ]
  },
  {
   "cell_type": "code",
   "execution_count": 8,
   "id": "78c786a6",
   "metadata": {},
   "outputs": [],
   "source": [
    "# crew_df = crew_df.drop(columns=\"Unnamed: 0\")\n",
    "# crew_df.head()"
   ]
  },
  {
   "cell_type": "code",
   "execution_count": 9,
   "id": "771b2d05",
   "metadata": {},
   "outputs": [],
   "source": [
    "# movies_df.head()"
   ]
  },
  {
   "cell_type": "code",
   "execution_count": 10,
   "id": "87cddabf",
   "metadata": {},
   "outputs": [],
   "source": [
    "# genres_df.head()"
   ]
  },
  {
   "cell_type": "code",
   "execution_count": 11,
   "id": "889436a3",
   "metadata": {},
   "outputs": [],
   "source": [
    "# meta_df.count()"
   ]
  },
  {
   "cell_type": "code",
   "execution_count": 12,
   "id": "559dd5a7",
   "metadata": {},
   "outputs": [],
   "source": [
    "# ratings_df.count()"
   ]
  },
  {
   "cell_type": "code",
   "execution_count": 13,
   "id": "f94a1853",
   "metadata": {},
   "outputs": [
    {
     "data": {
      "text/plain": [
       "movie_id    36790\n",
       "cast_id     36790\n",
       "mc_id       36790\n",
       "dtype: int64"
      ]
     },
     "execution_count": 13,
     "metadata": {},
     "output_type": "execute_result"
    }
   ],
   "source": [
    "cast_df.count()"
   ]
  },
  {
   "cell_type": "code",
   "execution_count": 14,
   "id": "d078b3dd",
   "metadata": {},
   "outputs": [],
   "source": [
    "# crew_df.count()"
   ]
  },
  {
   "cell_type": "code",
   "execution_count": 15,
   "id": "6a019a75",
   "metadata": {},
   "outputs": [],
   "source": [
    "# movies_df.count()"
   ]
  },
  {
   "cell_type": "code",
   "execution_count": 16,
   "id": "5a122981",
   "metadata": {},
   "outputs": [],
   "source": [
    "# genres_df.count()"
   ]
  },
  {
   "cell_type": "code",
   "execution_count": 17,
   "id": "a59e7d7d",
   "metadata": {},
   "outputs": [],
   "source": [
    "# meta_df = meta_df.drop_duplicates(keep=\"first\")\n",
    "# ratings_df = ratings_df.drop_duplicates(keep=\"first\")\n",
    "cast_df = cast_df.drop_duplicates(keep=\"first\")\n",
    "# # crew_df = crew_df.drop_duplicates(keep=\"first\")\n",
    "# movies_df = movies_df.drop_duplicates(keep=\"first\")\n",
    "# genres_df = genres_df.drop_duplicates(keep=\"first\")"
   ]
  },
  {
   "cell_type": "code",
   "execution_count": 18,
   "id": "de8b470b",
   "metadata": {},
   "outputs": [],
   "source": [
    "# meta_df = meta_df.dropna()\n",
    "# ratings_df = ratings_df.dropna()\n",
    "cast_df = cast_df.dropna()\n",
    "# # crew_df = crew_df.dropna()\n",
    "# movies_df = movies_df.dropna()\n",
    "# genres_df = genres_df.dropna()"
   ]
  },
  {
   "cell_type": "code",
   "execution_count": 19,
   "id": "58576e7d",
   "metadata": {},
   "outputs": [],
   "source": [
    "# meta_df.count()"
   ]
  },
  {
   "cell_type": "code",
   "execution_count": 20,
   "id": "4e7589fd",
   "metadata": {},
   "outputs": [],
   "source": [
    "# ratings_df.count()"
   ]
  },
  {
   "cell_type": "code",
   "execution_count": 21,
   "id": "ad5cfc8e",
   "metadata": {},
   "outputs": [
    {
     "data": {
      "text/plain": [
       "movie_id    36790\n",
       "cast_id     36790\n",
       "mc_id       36790\n",
       "dtype: int64"
      ]
     },
     "execution_count": 21,
     "metadata": {},
     "output_type": "execute_result"
    }
   ],
   "source": [
    "cast_df.count()"
   ]
  },
  {
   "cell_type": "code",
   "execution_count": 22,
   "id": "8ccf2f45",
   "metadata": {},
   "outputs": [],
   "source": [
    "# crew_df.count()"
   ]
  },
  {
   "cell_type": "code",
   "execution_count": 23,
   "id": "c0ef9fcc",
   "metadata": {},
   "outputs": [],
   "source": [
    "# movies_df[\"year\"] = movies_df[\"Year\"]\n",
    "# movies_df.count()"
   ]
  },
  {
   "cell_type": "code",
   "execution_count": 24,
   "id": "75fc95b2",
   "metadata": {},
   "outputs": [],
   "source": [
    "# genres_df.count()"
   ]
  },
  {
   "cell_type": "code",
   "execution_count": 25,
   "id": "1b88b72d",
   "metadata": {},
   "outputs": [],
   "source": [
    "# movies_df[\"movie_id\"] = movies_df[\"movieId\"]\n",
    "# movies_df[\"name\"] = movies_df[\"Title\"]\n",
    "# movies_df = movies_df.astype({\"year\": int})\n",
    "# movies_df.head()"
   ]
  },
  {
   "cell_type": "code",
   "execution_count": 26,
   "id": "73f0bb0e",
   "metadata": {},
   "outputs": [],
   "source": [
    "# ratings_df[\"user_id\"] = ratings_df[\"userId\"]\n",
    "# ratings_df[\"movie_id\"] = ratings_df[\"movieId\"]\n",
    "# ratings_df.head()"
   ]
  },
  {
   "cell_type": "code",
   "execution_count": 27,
   "id": "475fe54d",
   "metadata": {},
   "outputs": [],
   "source": [
    "# genres_df.head(20)"
   ]
  },
  {
   "cell_type": "code",
   "execution_count": 28,
   "id": "8dfa706a",
   "metadata": {},
   "outputs": [],
   "source": [
    "# genres_df = genres_df.loc[:, [\"mg_id\", \"movie_id\", \"genre_id\"]]\n",
    "# movies_df = movies_df.loc[:, [\"movie_id\", \"name\", \"year\"]]\n",
    "# ratings_df = ratings_df.loc[:, [\"user_id\", \"movie_id\", \"rating\"]]\n",
    "\n",
    "# genres_df = genres_df.set_index(\"mg_id\")\n",
    "# movies_df = movies_df.set_index(\"movie_id\")\n",
    "# ratings_df = ratings_df.set_index(\"user_id\")\n",
    "\n",
    "# meta_df = meta_df.loc[:, [\"movie_id\", \"release_date\", \"runtime\"]]\n",
    "cast_df = cast_df.loc[:, [\"mc_id\", \"movie_id\", \"cast_id\"]]\n",
    "# # crew_df = crew_df.loc[:, [\"movie_id\", \"name\", \"job\", \"gender\"]]\n",
    "\n",
    "# meta_df = meta_df.set_index(\"movie_id\")\n",
    "cast_df = cast_df.set_index(\"mc_id\")\n",
    "# # crew_df = crew_df.set_index(\"movie_id\")"
   ]
  },
  {
   "cell_type": "code",
   "execution_count": 29,
   "id": "9ab37c3d",
   "metadata": {},
   "outputs": [],
   "source": [
    "# genres_df.head()"
   ]
  },
  {
   "cell_type": "code",
   "execution_count": 30,
   "id": "6f0c378e",
   "metadata": {},
   "outputs": [],
   "source": [
    "# movies_df.head()"
   ]
  },
  {
   "cell_type": "code",
   "execution_count": 31,
   "id": "0e2bf1df",
   "metadata": {},
   "outputs": [],
   "source": [
    "# ratings_df.head()"
   ]
  },
  {
   "cell_type": "code",
   "execution_count": 32,
   "id": "60ad3c30",
   "metadata": {},
   "outputs": [],
   "source": [
    "# meta_df.head()"
   ]
  },
  {
   "cell_type": "code",
   "execution_count": 33,
   "id": "4c171d9d",
   "metadata": {},
   "outputs": [
    {
     "data": {
      "text/html": [
       "<div>\n",
       "<style scoped>\n",
       "    .dataframe tbody tr th:only-of-type {\n",
       "        vertical-align: middle;\n",
       "    }\n",
       "\n",
       "    .dataframe tbody tr th {\n",
       "        vertical-align: top;\n",
       "    }\n",
       "\n",
       "    .dataframe thead th {\n",
       "        text-align: right;\n",
       "    }\n",
       "</style>\n",
       "<table border=\"1\" class=\"dataframe\">\n",
       "  <thead>\n",
       "    <tr style=\"text-align: right;\">\n",
       "      <th></th>\n",
       "      <th>movie_id</th>\n",
       "      <th>cast_id</th>\n",
       "    </tr>\n",
       "    <tr>\n",
       "      <th>mc_id</th>\n",
       "      <th></th>\n",
       "      <th></th>\n",
       "    </tr>\n",
       "  </thead>\n",
       "  <tbody>\n",
       "    <tr>\n",
       "      <th>1</th>\n",
       "      <td>1</td>\n",
       "      <td>31</td>\n",
       "    </tr>\n",
       "    <tr>\n",
       "      <th>2</th>\n",
       "      <td>2</td>\n",
       "      <td>2157</td>\n",
       "    </tr>\n",
       "    <tr>\n",
       "      <th>3</th>\n",
       "      <td>3</td>\n",
       "      <td>6837</td>\n",
       "    </tr>\n",
       "    <tr>\n",
       "      <th>4</th>\n",
       "      <td>4</td>\n",
       "      <td>8851</td>\n",
       "    </tr>\n",
       "    <tr>\n",
       "      <th>5</th>\n",
       "      <td>5</td>\n",
       "      <td>67773</td>\n",
       "    </tr>\n",
       "  </tbody>\n",
       "</table>\n",
       "</div>"
      ],
      "text/plain": [
       "       movie_id  cast_id\n",
       "mc_id                   \n",
       "1             1       31\n",
       "2             2     2157\n",
       "3             3     6837\n",
       "4             4     8851\n",
       "5             5    67773"
      ]
     },
     "execution_count": 33,
     "metadata": {},
     "output_type": "execute_result"
    }
   ],
   "source": [
    "cast_df.head()"
   ]
  },
  {
   "cell_type": "code",
   "execution_count": 35,
   "id": "55c7c0a6",
   "metadata": {},
   "outputs": [],
   "source": [
    "# crew_df.head()"
   ]
  },
  {
   "cell_type": "code",
   "execution_count": 36,
   "id": "606db395",
   "metadata": {},
   "outputs": [],
   "source": [
    "# # meta_df.to_csv(\"New_Data/movie_metadata_final.csv\")\n",
    "# cast_df.to_csv(\"New_Data/cast_final.csv\")\n",
    "# # crew_df.to_csv(\"New_Data/crew_final.csv\")\n",
    "# movies_df.to_csv(\"New_Data/movies_final.csv\")\n",
    "# genres_df.to_csv(\"New_Data/movie_genres_final.csv\")\n",
    "# ratings_df.to_csv(\"New_Data/ratings_final.csv\")"
   ]
  },
  {
   "cell_type": "code",
   "execution_count": 37,
   "id": "ac9b94c9",
   "metadata": {},
   "outputs": [],
   "source": [
    "from config import db_password\n",
    "from config import username"
   ]
  },
  {
   "cell_type": "code",
   "execution_count": 38,
   "id": "8cc370cc",
   "metadata": {},
   "outputs": [],
   "source": [
    "host = 'movies-fp.cpige012zhtw.us-east-1.rds.amazonaws.com'\n",
    "port = 5432\n",
    "passw = db_password\n",
    "database = \"postgres\"\n",
    "port=5432\n",
    "\n",
    "   \n",
    "db_string = \"postgresql://\" + username + \":\" + passw + \"@\" + host + \":\" + \"5432/\" + database\n",
    "engine = create_engine(db_string)"
   ]
  },
  {
   "cell_type": "code",
   "execution_count": 39,
   "id": "d9c9d833",
   "metadata": {},
   "outputs": [],
   "source": [
    "# genres_df.to_sql(name=\"movie_genre\", con=engine, if_exists=\"replace\")"
   ]
  },
  {
   "cell_type": "code",
   "execution_count": 40,
   "id": "3715f3a2",
   "metadata": {},
   "outputs": [],
   "source": [
    "# movies_df.to_sql(name=\"movies\", con=engine, if_exists=\"replace\")"
   ]
  },
  {
   "cell_type": "code",
   "execution_count": 41,
   "id": "2fa75ccc",
   "metadata": {},
   "outputs": [],
   "source": [
    "# ratings_df.to_sql(name=\"ratings\", con=engine, if_exists=\"replace\")"
   ]
  },
  {
   "cell_type": "code",
   "execution_count": 42,
   "id": "ee3955fd",
   "metadata": {},
   "outputs": [],
   "source": [
    "# meta_df.to_sql(name=\"metadata\", con=engine, if_exists=\"replace\")"
   ]
  },
  {
   "cell_type": "code",
   "execution_count": 43,
   "id": "efc9501d",
   "metadata": {},
   "outputs": [],
   "source": [
    "cast_df.to_sql(name=\"movie_cast\", con=engine, if_exists=\"replace\")"
   ]
  },
  {
   "cell_type": "code",
   "execution_count": 44,
   "id": "7098909e",
   "metadata": {},
   "outputs": [],
   "source": [
    "# # crew_df.to_sql(name=\"crew\", con=engine, if_exists=\"replace\")"
   ]
  }
 ],
 "metadata": {
  "kernelspec": {
   "display_name": "mlenv",
   "language": "python",
   "name": "mlenv"
  },
  "language_info": {
   "codemirror_mode": {
    "name": "ipython",
    "version": 3
   },
   "file_extension": ".py",
   "mimetype": "text/x-python",
   "name": "python",
   "nbconvert_exporter": "python",
   "pygments_lexer": "ipython3",
   "version": "3.7.11"
  }
 },
 "nbformat": 4,
 "nbformat_minor": 5
}
