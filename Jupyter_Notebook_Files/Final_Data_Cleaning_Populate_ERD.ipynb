{
 "cells": [
  {
   "cell_type": "markdown",
   "id": "20d7a95d",
   "metadata": {},
   "source": [
    "# Import Dependencies"
   ]
  },
  {
   "cell_type": "code",
   "execution_count": 1,
   "id": "1b27492c",
   "metadata": {},
   "outputs": [],
   "source": [
    "import pandas as pd\n",
    "import numpy as np\n",
    "import re\n",
    "import time\n",
    "import sqlalchemy\n",
    "from sqlalchemy import create_engine\n",
    "import io\n",
    "import psycopg2\n",
    "\n",
    "from pathlib import Path\n",
    "from collections import Counter"
   ]
  },
  {
   "cell_type": "markdown",
   "id": "cd1cf13d",
   "metadata": {},
   "source": [
    "# Create File Paths and Import As Dataframes"
   ]
  },
  {
   "cell_type": "code",
   "execution_count": 2,
   "id": "5c9175b3",
   "metadata": {},
   "outputs": [],
   "source": [
    "# ratings_path = \"Data/ratings_clean.csv\"\n",
    "# movies_path = \"Data/movies_clean.csv\"\n",
    "genres_path = \"Data/movie_genres_clean.csv\"\n",
    "# cast_path = \"New_Data/movie_cast.csv\""
   ]
  },
  {
   "cell_type": "code",
   "execution_count": 3,
   "id": "713c13d1",
   "metadata": {},
   "outputs": [],
   "source": [
    "# ratings_df = pd.read_csv(ratings_path, low_memory=False)\n",
    "# movies_df = pd.read_csv(movies_path, low_memory=False)\n",
    "genres_df = pd.read_csv(genres_path, low_memory=False)\n",
    "# cast_df = pd.read_csv(cast_path, low_memory=False)"
   ]
  },
  {
   "cell_type": "code",
   "execution_count": 4,
   "id": "4df3dce9",
   "metadata": {},
   "outputs": [],
   "source": [
    "# ratings_df.head()"
   ]
  },
  {
   "cell_type": "markdown",
   "id": "96c37ceb",
   "metadata": {},
   "source": [
    "# Create mc_id Index With Base 1 Not Python's Base 0"
   ]
  },
  {
   "cell_type": "code",
   "execution_count": 5,
   "id": "4895ddce",
   "metadata": {},
   "outputs": [],
   "source": [
    "# cast_df[\"index\"] = cast_df.index\n",
    "# Cast_Index = cast_df[\"index\"] + 1\n",
    "# cast_df[\"mc_id\"] = Cast_Index"
   ]
  },
  {
   "cell_type": "markdown",
   "id": "e7d1dc9c",
   "metadata": {},
   "source": [
    "# Drop Unnecessary Index Column"
   ]
  },
  {
   "cell_type": "code",
   "execution_count": 6,
   "id": "fe89c9e9",
   "metadata": {},
   "outputs": [],
   "source": [
    "# cast_df = cast_df.drop(columns=[\"index\"])\n",
    "# cast_df.head()"
   ]
  },
  {
   "cell_type": "code",
   "execution_count": 7,
   "id": "771b2d05",
   "metadata": {},
   "outputs": [],
   "source": [
    "# movies_df.head()"
   ]
  },
  {
   "cell_type": "code",
   "execution_count": 8,
   "id": "559dd5a7",
   "metadata": {},
   "outputs": [],
   "source": [
    "# ratings_df.count()"
   ]
  },
  {
   "cell_type": "code",
   "execution_count": 9,
   "id": "f94a1853",
   "metadata": {},
   "outputs": [],
   "source": [
    "# cast_df.count()"
   ]
  },
  {
   "cell_type": "code",
   "execution_count": 10,
   "id": "6a019a75",
   "metadata": {},
   "outputs": [],
   "source": [
    "# movies_df.count()"
   ]
  },
  {
   "cell_type": "code",
   "execution_count": 11,
   "id": "5a122981",
   "metadata": {},
   "outputs": [
    {
     "data": {
      "text/plain": [
       "mg_id       57818\n",
       "genre_id    57818\n",
       "movie_id    57818\n",
       "movieId     57818\n",
       "dtype: int64"
      ]
     },
     "execution_count": 11,
     "metadata": {},
     "output_type": "execute_result"
    }
   ],
   "source": [
    "genres_df.count()"
   ]
  },
  {
   "cell_type": "markdown",
   "id": "bbdc489c",
   "metadata": {},
   "source": [
    "# Drop Duplicates In Dataframes"
   ]
  },
  {
   "cell_type": "code",
   "execution_count": 12,
   "id": "a59e7d7d",
   "metadata": {},
   "outputs": [],
   "source": [
    "# ratings_df = ratings_df.drop_duplicates(keep=\"first\")\n",
    "# cast_df = cast_df.drop_duplicates(keep=\"first\")\n",
    "# movies_df = movies_df.drop_duplicates(keep=\"first\")\n",
    "genres_df = genres_df.drop_duplicates(keep=\"first\")"
   ]
  },
  {
   "cell_type": "markdown",
   "id": "a54e3756",
   "metadata": {},
   "source": [
    "# Drop NaN Values In Dataframes"
   ]
  },
  {
   "cell_type": "code",
   "execution_count": 13,
   "id": "de8b470b",
   "metadata": {},
   "outputs": [],
   "source": [
    "# ratings_df = ratings_df.dropna()\n",
    "# cast_df = cast_df.dropna()\n",
    "# movies_df = movies_df.dropna()\n",
    "genres_df = genres_df.dropna()"
   ]
  },
  {
   "cell_type": "code",
   "execution_count": 14,
   "id": "4e7589fd",
   "metadata": {},
   "outputs": [],
   "source": [
    "# ratings_df.count()"
   ]
  },
  {
   "cell_type": "code",
   "execution_count": 15,
   "id": "ad5cfc8e",
   "metadata": {},
   "outputs": [],
   "source": [
    "# cast_df.count()"
   ]
  },
  {
   "cell_type": "markdown",
   "id": "5d1affee",
   "metadata": {},
   "source": [
    "# Ensure Column Names and Datatypes Are Consistent With Database"
   ]
  },
  {
   "cell_type": "code",
   "execution_count": 16,
   "id": "c0ef9fcc",
   "metadata": {},
   "outputs": [],
   "source": [
    "# movies_df[\"year\"] = movies_df[\"Year\"]\n",
    "# movies_df.count()"
   ]
  },
  {
   "cell_type": "code",
   "execution_count": 17,
   "id": "75fc95b2",
   "metadata": {},
   "outputs": [
    {
     "data": {
      "text/plain": [
       "mg_id       57818\n",
       "genre_id    57818\n",
       "movie_id    57818\n",
       "movieId     57818\n",
       "dtype: int64"
      ]
     },
     "execution_count": 17,
     "metadata": {},
     "output_type": "execute_result"
    }
   ],
   "source": [
    "genres_df.count()"
   ]
  },
  {
   "cell_type": "code",
   "execution_count": 18,
   "id": "1b88b72d",
   "metadata": {},
   "outputs": [],
   "source": [
    "# movies_df[\"movie_id\"] = movies_df[\"movieId\"]\n",
    "# movies_df[\"name\"] = movies_df[\"Title\"]\n",
    "# movies_df = movies_df.astype({\"year\": int})\n",
    "# movies_df.head()"
   ]
  },
  {
   "cell_type": "code",
   "execution_count": 19,
   "id": "73f0bb0e",
   "metadata": {},
   "outputs": [],
   "source": [
    "# ratings_df[\"user_id\"] = ratings_df[\"userId\"]\n",
    "# ratings_df[\"movie_id\"] = ratings_df[\"movieId\"]\n",
    "# ratings_df.head()"
   ]
  },
  {
   "cell_type": "code",
   "execution_count": 20,
   "id": "475fe54d",
   "metadata": {},
   "outputs": [
    {
     "data": {
      "text/html": [
       "<div>\n",
       "<style scoped>\n",
       "    .dataframe tbody tr th:only-of-type {\n",
       "        vertical-align: middle;\n",
       "    }\n",
       "\n",
       "    .dataframe tbody tr th {\n",
       "        vertical-align: top;\n",
       "    }\n",
       "\n",
       "    .dataframe thead th {\n",
       "        text-align: right;\n",
       "    }\n",
       "</style>\n",
       "<table border=\"1\" class=\"dataframe\">\n",
       "  <thead>\n",
       "    <tr style=\"text-align: right;\">\n",
       "      <th></th>\n",
       "      <th>mg_id</th>\n",
       "      <th>genre_id</th>\n",
       "      <th>movie_id</th>\n",
       "      <th>movieId</th>\n",
       "    </tr>\n",
       "  </thead>\n",
       "  <tbody>\n",
       "    <tr>\n",
       "      <th>0</th>\n",
       "      <td>1</td>\n",
       "      <td>1</td>\n",
       "      <td>1</td>\n",
       "      <td>2.0</td>\n",
       "    </tr>\n",
       "    <tr>\n",
       "      <th>1</th>\n",
       "      <td>2</td>\n",
       "      <td>3</td>\n",
       "      <td>1</td>\n",
       "      <td>3.0</td>\n",
       "    </tr>\n",
       "    <tr>\n",
       "      <th>2</th>\n",
       "      <td>3</td>\n",
       "      <td>4</td>\n",
       "      <td>1</td>\n",
       "      <td>4.0</td>\n",
       "    </tr>\n",
       "    <tr>\n",
       "      <th>3</th>\n",
       "      <td>4</td>\n",
       "      <td>5</td>\n",
       "      <td>1</td>\n",
       "      <td>5.0</td>\n",
       "    </tr>\n",
       "    <tr>\n",
       "      <th>4</th>\n",
       "      <td>5</td>\n",
       "      <td>9</td>\n",
       "      <td>1</td>\n",
       "      <td>6.0</td>\n",
       "    </tr>\n",
       "    <tr>\n",
       "      <th>5</th>\n",
       "      <td>6</td>\n",
       "      <td>1</td>\n",
       "      <td>2</td>\n",
       "      <td>7.0</td>\n",
       "    </tr>\n",
       "    <tr>\n",
       "      <th>6</th>\n",
       "      <td>7</td>\n",
       "      <td>4</td>\n",
       "      <td>2</td>\n",
       "      <td>8.0</td>\n",
       "    </tr>\n",
       "    <tr>\n",
       "      <th>7</th>\n",
       "      <td>8</td>\n",
       "      <td>9</td>\n",
       "      <td>2</td>\n",
       "      <td>9.0</td>\n",
       "    </tr>\n",
       "    <tr>\n",
       "      <th>8</th>\n",
       "      <td>9</td>\n",
       "      <td>5</td>\n",
       "      <td>3</td>\n",
       "      <td>10.0</td>\n",
       "    </tr>\n",
       "    <tr>\n",
       "      <th>9</th>\n",
       "      <td>10</td>\n",
       "      <td>15</td>\n",
       "      <td>3</td>\n",
       "      <td>11.0</td>\n",
       "    </tr>\n",
       "    <tr>\n",
       "      <th>10</th>\n",
       "      <td>11</td>\n",
       "      <td>5</td>\n",
       "      <td>4</td>\n",
       "      <td>12.0</td>\n",
       "    </tr>\n",
       "    <tr>\n",
       "      <th>11</th>\n",
       "      <td>12</td>\n",
       "      <td>8</td>\n",
       "      <td>4</td>\n",
       "      <td>13.0</td>\n",
       "    </tr>\n",
       "    <tr>\n",
       "      <th>12</th>\n",
       "      <td>13</td>\n",
       "      <td>15</td>\n",
       "      <td>4</td>\n",
       "      <td>14.0</td>\n",
       "    </tr>\n",
       "    <tr>\n",
       "      <th>13</th>\n",
       "      <td>14</td>\n",
       "      <td>5</td>\n",
       "      <td>5</td>\n",
       "      <td>15.0</td>\n",
       "    </tr>\n",
       "    <tr>\n",
       "      <th>14</th>\n",
       "      <td>15</td>\n",
       "      <td>2</td>\n",
       "      <td>6</td>\n",
       "      <td>16.0</td>\n",
       "    </tr>\n",
       "    <tr>\n",
       "      <th>15</th>\n",
       "      <td>16</td>\n",
       "      <td>6</td>\n",
       "      <td>6</td>\n",
       "      <td>17.0</td>\n",
       "    </tr>\n",
       "    <tr>\n",
       "      <th>16</th>\n",
       "      <td>17</td>\n",
       "      <td>17</td>\n",
       "      <td>6</td>\n",
       "      <td>18.0</td>\n",
       "    </tr>\n",
       "    <tr>\n",
       "      <th>17</th>\n",
       "      <td>18</td>\n",
       "      <td>5</td>\n",
       "      <td>7</td>\n",
       "      <td>19.0</td>\n",
       "    </tr>\n",
       "    <tr>\n",
       "      <th>18</th>\n",
       "      <td>19</td>\n",
       "      <td>15</td>\n",
       "      <td>7</td>\n",
       "      <td>20.0</td>\n",
       "    </tr>\n",
       "    <tr>\n",
       "      <th>19</th>\n",
       "      <td>20</td>\n",
       "      <td>1</td>\n",
       "      <td>8</td>\n",
       "      <td>21.0</td>\n",
       "    </tr>\n",
       "  </tbody>\n",
       "</table>\n",
       "</div>"
      ],
      "text/plain": [
       "    mg_id  genre_id  movie_id  movieId\n",
       "0       1         1         1      2.0\n",
       "1       2         3         1      3.0\n",
       "2       3         4         1      4.0\n",
       "3       4         5         1      5.0\n",
       "4       5         9         1      6.0\n",
       "5       6         1         2      7.0\n",
       "6       7         4         2      8.0\n",
       "7       8         9         2      9.0\n",
       "8       9         5         3     10.0\n",
       "9      10        15         3     11.0\n",
       "10     11         5         4     12.0\n",
       "11     12         8         4     13.0\n",
       "12     13        15         4     14.0\n",
       "13     14         5         5     15.0\n",
       "14     15         2         6     16.0\n",
       "15     16         6         6     17.0\n",
       "16     17        17         6     18.0\n",
       "17     18         5         7     19.0\n",
       "18     19        15         7     20.0\n",
       "19     20         1         8     21.0"
      ]
     },
     "execution_count": 20,
     "metadata": {},
     "output_type": "execute_result"
    }
   ],
   "source": [
    "genres_df.head(20)"
   ]
  },
  {
   "cell_type": "markdown",
   "id": "53f7d314",
   "metadata": {},
   "source": [
    "# Set Dataframe Columns In Same Order As Database And Set Index For Each"
   ]
  },
  {
   "cell_type": "code",
   "execution_count": 21,
   "id": "8dfa706a",
   "metadata": {},
   "outputs": [],
   "source": [
    "genres_df = genres_df.loc[:, [\"mg_id\", \"movie_id\", \"genre_id\"]]\n",
    "# movies_df = movies_df.loc[:, [\"movie_id\", \"name\", \"year\"]]\n",
    "# ratings_df = ratings_df.loc[:, [\"user_id\", \"movie_id\", \"rating\"]]\n",
    "# cast_df = cast_df.loc[:, [\"mc_id\", \"movie_id\", \"cast_id\"]]\n",
    "\n",
    "genres_df = genres_df.set_index(\"mg_id\")\n",
    "# movies_df = movies_df.set_index(\"movie_id\")\n",
    "# ratings_df = ratings_df.set_index(\"user_id\")\n",
    "# cast_df = cast_df.set_index(\"mc_id\")"
   ]
  },
  {
   "cell_type": "code",
   "execution_count": 22,
   "id": "9ab37c3d",
   "metadata": {},
   "outputs": [
    {
     "data": {
      "text/html": [
       "<div>\n",
       "<style scoped>\n",
       "    .dataframe tbody tr th:only-of-type {\n",
       "        vertical-align: middle;\n",
       "    }\n",
       "\n",
       "    .dataframe tbody tr th {\n",
       "        vertical-align: top;\n",
       "    }\n",
       "\n",
       "    .dataframe thead th {\n",
       "        text-align: right;\n",
       "    }\n",
       "</style>\n",
       "<table border=\"1\" class=\"dataframe\">\n",
       "  <thead>\n",
       "    <tr style=\"text-align: right;\">\n",
       "      <th></th>\n",
       "      <th>movie_id</th>\n",
       "      <th>genre_id</th>\n",
       "    </tr>\n",
       "    <tr>\n",
       "      <th>mg_id</th>\n",
       "      <th></th>\n",
       "      <th></th>\n",
       "    </tr>\n",
       "  </thead>\n",
       "  <tbody>\n",
       "    <tr>\n",
       "      <th>1</th>\n",
       "      <td>1</td>\n",
       "      <td>1</td>\n",
       "    </tr>\n",
       "    <tr>\n",
       "      <th>2</th>\n",
       "      <td>1</td>\n",
       "      <td>3</td>\n",
       "    </tr>\n",
       "    <tr>\n",
       "      <th>3</th>\n",
       "      <td>1</td>\n",
       "      <td>4</td>\n",
       "    </tr>\n",
       "    <tr>\n",
       "      <th>4</th>\n",
       "      <td>1</td>\n",
       "      <td>5</td>\n",
       "    </tr>\n",
       "    <tr>\n",
       "      <th>5</th>\n",
       "      <td>1</td>\n",
       "      <td>9</td>\n",
       "    </tr>\n",
       "  </tbody>\n",
       "</table>\n",
       "</div>"
      ],
      "text/plain": [
       "       movie_id  genre_id\n",
       "mg_id                    \n",
       "1             1         1\n",
       "2             1         3\n",
       "3             1         4\n",
       "4             1         5\n",
       "5             1         9"
      ]
     },
     "execution_count": 22,
     "metadata": {},
     "output_type": "execute_result"
    }
   ],
   "source": [
    "genres_df.head()"
   ]
  },
  {
   "cell_type": "code",
   "execution_count": 23,
   "id": "02375f54",
   "metadata": {},
   "outputs": [
    {
     "data": {
      "text/plain": [
       "movie_id    57818\n",
       "genre_id    57818\n",
       "dtype: int64"
      ]
     },
     "execution_count": 23,
     "metadata": {},
     "output_type": "execute_result"
    }
   ],
   "source": [
    "genres_df.count()"
   ]
  },
  {
   "cell_type": "code",
   "execution_count": null,
   "id": "6f0c378e",
   "metadata": {},
   "outputs": [],
   "source": [
    "# movies_df.head()"
   ]
  },
  {
   "cell_type": "code",
   "execution_count": null,
   "id": "0e2bf1df",
   "metadata": {},
   "outputs": [],
   "source": [
    "# ratings_df.head()"
   ]
  },
  {
   "cell_type": "code",
   "execution_count": null,
   "id": "4c171d9d",
   "metadata": {},
   "outputs": [],
   "source": [
    "# cast_df.head()"
   ]
  },
  {
   "cell_type": "markdown",
   "id": "a2aa477b",
   "metadata": {},
   "source": [
    "# Import Sensitive Access Information For Database From Config File"
   ]
  },
  {
   "cell_type": "code",
   "execution_count": 24,
   "id": "ac9b94c9",
   "metadata": {},
   "outputs": [],
   "source": [
    "from config import db_password\n",
    "from config import username"
   ]
  },
  {
   "cell_type": "markdown",
   "id": "25fbd029",
   "metadata": {},
   "source": [
    "# Establish Connection With AWS Database"
   ]
  },
  {
   "cell_type": "code",
   "execution_count": 25,
   "id": "8cc370cc",
   "metadata": {},
   "outputs": [],
   "source": [
    "host = 'movies-fp.cpige012zhtw.us-east-1.rds.amazonaws.com'\n",
    "port = 5432\n",
    "passw = db_password\n",
    "database = \"postgres\"\n",
    "port=5432\n",
    "\n",
    "   \n",
    "db_string = \"postgresql://\" + username + \":\" + passw + \"@\" + host + \":\" + \"5432/\" + database\n",
    "engine = create_engine(db_string)"
   ]
  },
  {
   "cell_type": "markdown",
   "id": "2be31f89",
   "metadata": {},
   "source": [
    "# Write Dataframes Into SQL Tables In Database"
   ]
  },
  {
   "cell_type": "code",
   "execution_count": null,
   "id": "d9c9d833",
   "metadata": {},
   "outputs": [],
   "source": [
    "genres_df.to_sql(name=\"movie_genre\", con=engine, if_exists=\"replace\")"
   ]
  },
  {
   "cell_type": "code",
   "execution_count": null,
   "id": "3715f3a2",
   "metadata": {},
   "outputs": [],
   "source": [
    "# movies_df.to_sql(name=\"movies\", con=engine, if_exists=\"replace\")"
   ]
  },
  {
   "cell_type": "code",
   "execution_count": null,
   "id": "2fa75ccc",
   "metadata": {},
   "outputs": [],
   "source": [
    "# ratings_df.to_sql(name=\"ratings\", con=engine, if_exists=\"replace\")"
   ]
  },
  {
   "cell_type": "code",
   "execution_count": null,
   "id": "efc9501d",
   "metadata": {},
   "outputs": [],
   "source": [
    "# cast_df.to_sql(name=\"movie_cast\", con=engine, if_exists=\"replace\")"
   ]
  }
 ],
 "metadata": {
  "kernelspec": {
   "display_name": "mlenv",
   "language": "python",
   "name": "mlenv"
  },
  "language_info": {
   "codemirror_mode": {
    "name": "ipython",
    "version": 3
   },
   "file_extension": ".py",
   "mimetype": "text/x-python",
   "name": "python",
   "nbconvert_exporter": "python",
   "pygments_lexer": "ipython3",
   "version": "3.7.11"
  }
 },
 "nbformat": 4,
 "nbformat_minor": 5
}
