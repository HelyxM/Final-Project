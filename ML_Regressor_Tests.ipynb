{
 "cells": [
  {
   "cell_type": "code",
   "execution_count": null,
   "id": "970401c4",
   "metadata": {},
   "outputs": [],
   "source": [
    "# Importing Potentially Used Basic Dependencies\n",
    "import pandas as pd\n",
    "import numpy as np\n",
    "from pathlib import Path\n",
    "from collections import Counter\n",
    "\n",
    "# Import Dependencies for Algorithms\n",
    "from sklearn.svm import SVR\n",
    "from sklearn.linear_model import Lasso\n",
    "from sklearn.gaussian_process import GaussianProcessRegressor\n",
    "from sklearn.tree import ExtraTreeRegressor\n",
    "from sklearn.neighbors import KNeighborsRegressor\n",
    "from sklearn.model_selection import train_test_split\n",
    "from sklearn.preprocessing import StandardScaler\n"
   ]
  },
  {
   "cell_type": "code",
   "execution_count": null,
   "id": "da665c6d",
   "metadata": {},
   "outputs": [],
   "source": [
    "file_path = (\"Data/loan_data.csv\")\n",
    "file_df = pd.read_csv(file_path)\n",
    "file_df  = file_df.drop(columns=[\"Unnamed: 0\"])\n",
    "df = pd.get_dummies(file_df, columns=[\"loan_status\"])\n",
    "df.dropna()\n",
    "df.head()"
   ]
  },
  {
   "cell_type": "code",
   "execution_count": null,
   "id": "b89207f6",
   "metadata": {},
   "outputs": [],
   "source": [
    "X = df.drop(columns=\"revol_bal\")\n",
    "y= df[\"revol_bal\"]"
   ]
  },
  {
   "cell_type": "code",
   "execution_count": null,
   "id": "58a53471",
   "metadata": {},
   "outputs": [],
   "source": [
    "X_train, X_test, y_train, y_test = train_test_split(X, y)\n",
    "scaler = StandardScaler()\n",
    "X_scaler = scaler.fit(X_train)\n",
    "X_train_scaled = X_scaler.transform(X_train)\n",
    "X_test_scaled = X_scaler.transform(X_test)"
   ]
  },
  {
   "cell_type": "code",
   "execution_count": null,
   "id": "8443d5b2",
   "metadata": {},
   "outputs": [],
   "source": [
    "# Regressor 1: Gaussian Regressor\n",
    "model = GaussianProcessRegressor(random_state=0)\n",
    "model.fit(X_train_scaled, y_train)"
   ]
  },
  {
   "cell_type": "code",
   "execution_count": null,
   "id": "29b51b25",
   "metadata": {},
   "outputs": [],
   "source": [
    "model.score(X_test_scaled, y_test)"
   ]
  },
  {
   "cell_type": "code",
   "execution_count": null,
   "id": "bb83451b",
   "metadata": {},
   "outputs": [],
   "source": [
    "# Regressor 2: Extra Tree Regressor\n",
    "model = ExtraTreeRegressor(random_state=0)\n",
    "model.fit(X_train_scaled, y_train)\n",
    "model.score(X_test_scaled, y_test)"
   ]
  },
  {
   "cell_type": "code",
   "execution_count": null,
   "id": "4481b6ef",
   "metadata": {},
   "outputs": [],
   "source": [
    "# Regressor 3: LASSO Regressor\n",
    "model = Lasso\n",
    "model.fit(X_train_scaled, y_train)\n",
    "model.score(X_test_scaled, y_test)"
   ]
  },
  {
   "cell_type": "code",
   "execution_count": null,
   "id": "d05892d1",
   "metadata": {},
   "outputs": [],
   "source": [
    "# Regressor 4: K-Nearest Neighbors\n",
    "model = KNeighborsRegressor(n_neighbors=2)\n",
    "model.fit(X_train_scaled, y_train)\n",
    "model.score(X_test_scaled, y_test)"
   ]
  },
  {
   "cell_type": "code",
   "execution_count": null,
   "id": "b1c8035b",
   "metadata": {},
   "outputs": [],
   "source": []
  },
  {
   "cell_type": "code",
   "execution_count": null,
   "id": "82de396e",
   "metadata": {},
   "outputs": [],
   "source": []
  },
  {
   "cell_type": "code",
   "execution_count": null,
   "id": "046238d9",
   "metadata": {},
   "outputs": [],
   "source": []
  },
  {
   "cell_type": "code",
   "execution_count": null,
   "id": "41872203",
   "metadata": {},
   "outputs": [],
   "source": []
  }
 ],
 "metadata": {
  "kernelspec": {
   "display_name": "mlenv",
   "language": "python",
   "name": "mlenv"
  },
  "language_info": {
   "codemirror_mode": {
    "name": "ipython",
    "version": 3
   },
   "file_extension": ".py",
   "mimetype": "text/x-python",
   "name": "python",
   "nbconvert_exporter": "python",
   "pygments_lexer": "ipython3",
   "version": "3.7.11"
  }
 },
 "nbformat": 4,
 "nbformat_minor": 5
}
