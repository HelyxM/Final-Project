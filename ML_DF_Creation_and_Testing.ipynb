{
 "cells": [
  {
   "cell_type": "code",
   "execution_count": null,
   "id": "0b36a914",
   "metadata": {},
   "outputs": [],
   "source": [
    "# Importing Potentially Used Basic Dependencies\n",
    "import pandas as pd\n",
    "import numpy as np\n",
    "from pathlib import Path\n",
    "from collections import Counter\n",
    "import sqlalchemy as db\n",
    "from sqlalchemy import create_engine\n",
    "import io\n",
    "import psycopg2"
   ]
  },
  {
   "cell_type": "code",
   "execution_count": null,
   "id": "ec93d9a5",
   "metadata": {},
   "outputs": [],
   "source": [
    "from config import db_password, username\n"
   ]
  },
  {
   "cell_type": "code",
   "execution_count": null,
   "id": "cb14e694",
   "metadata": {},
   "outputs": [],
   "source": [
    "host = 'movies-fp.cpige012zhtw.us-east-1.rds.amazonaws.com'\n",
    "port = 5432\n",
    "passw = db_password\n",
    "database = \"postgres\"\n",
    "port=5432\n",
    "\n",
    "   \n",
    "db_string = \"postgresql://\" + username + \":\" + passw + \"@\" + host + \":\" + \"5432/\" + database\n",
    "engine = db.create_engine(db_string)\n",
    "connection = engine.connect()\n",
    "metadata = db.MetaData()"
   ]
  },
  {
   "cell_type": "code",
   "execution_count": null,
   "id": "228dc2f6",
   "metadata": {},
   "outputs": [],
   "source": [
    "movie_genres = db.Table('movie_genre', metadata, autoload=True, autoload_with=engine)\n",
    "query = db.select([movie_genres]) \n",
    "ResultProxy = connection.execute(query)\n",
    "ResultSet = ResultProxy.fetchall()\n",
    "mov_gen_df = pd.DataFrame(ResultSet)\n",
    "mov_gen_df.columns = ResultSet[0].keys()\n",
    "mov_gen_df = mov_gen_df.loc[:, ['movie_id', 'mg_id', 'genre_id']]\n",
    "\n",
    "mov_gen_df.head()"
   ]
  },
  {
   "cell_type": "code",
   "execution_count": null,
   "id": "bbcf31bc",
   "metadata": {},
   "outputs": [],
   "source": [
    "movies = db.Table('movies', metadata, autoload=True, autoload_with=engine)\n",
    "query = db.select([movies]) \n",
    "ResultProxy = connection.execute(query)\n",
    "ResultSet = ResultProxy.fetchall()\n",
    "movies_df = pd.DataFrame(ResultSet)\n",
    "movies_df.columns = ResultSet[0].keys()\n",
    "\n",
    "movies_df.head()"
   ]
  },
  {
   "cell_type": "code",
   "execution_count": null,
   "id": "271d8655",
   "metadata": {},
   "outputs": [],
   "source": [
    "ratings = db.Table('ratings', metadata, autoload=True, autoload_with=engine)\n",
    "query = db.select([ratings]) \n",
    "ResultProxy = connection.execute(query)\n",
    "ResultSet = ResultProxy.fetchall()\n",
    "ratings_df = pd.DataFrame(ResultSet)\n",
    "ratings_df.columns = ResultSet[0].keys()\n",
    "ratings_df = ratings_df.loc[:, ['movie_id', 'user_id', 'rating']]\n",
    "\n",
    "ratings_df.head()"
   ]
  },
  {
   "cell_type": "code",
   "execution_count": null,
   "id": "be6982a9",
   "metadata": {},
   "outputs": [],
   "source": [
    "connection.close()"
   ]
  },
  {
   "cell_type": "code",
   "execution_count": null,
   "id": "86b44933",
   "metadata": {},
   "outputs": [],
   "source": [
    "movies_df = movies_df.loc[:, [\"name\", \"year\", \"movie_id\"]]\n",
    "movies_df = movies_df.set_index(\"movie_id\")\n",
    "ratings_df = ratings_df.loc[:, ['movie_id', 'user_id', 'rating']]\n",
    "ratings_df = ratings_df.set_index(\"movie_id\")\n",
    "mov_gen_df = mov_gen_df.loc[:, ['movie_id', 'mg_id', 'genre_id']]\n",
    "mov_gen_df = mov_gen_df.set_index(\"movie_id\")"
   ]
  },
  {
   "cell_type": "code",
   "execution_count": null,
   "id": "1390ad12",
   "metadata": {},
   "outputs": [],
   "source": [
    "data_df = ratings_df.join(movies_df, on=\"movie_id\", how=\"left\", sort=True)\n",
    "data_df = data_df.join(mov_gen_df, on=\"movie_id\", how=\"left\", sort=True)\n",
    "data_df.head()"
   ]
  },
  {
   "cell_type": "code",
   "execution_count": null,
   "id": "2baa9ade",
   "metadata": {},
   "outputs": [],
   "source": [
    "data_df[\"movie_id\"] = data_df.index\n",
    "data_df.head()"
   ]
  },
  {
   "cell_type": "code",
   "execution_count": null,
   "id": "ee8fd43d",
   "metadata": {},
   "outputs": [],
   "source": [
    "data_df = data_df.reset_index(drop=True)\n",
    "data_df.head()"
   ]
  },
  {
   "cell_type": "code",
   "execution_count": null,
   "id": "6599c389",
   "metadata": {},
   "outputs": [],
   "source": [
    "data_df.count()"
   ]
  },
  {
   "cell_type": "code",
   "execution_count": null,
   "id": "98e3ce91",
   "metadata": {},
   "outputs": [],
   "source": [
    "data_df = data_df.dropna()"
   ]
  },
  {
   "cell_type": "code",
   "execution_count": null,
   "id": "9ecd8852",
   "metadata": {},
   "outputs": [],
   "source": [
    "data_df.count()"
   ]
  },
  {
   "cell_type": "code",
   "execution_count": null,
   "id": "7b4a9b0b",
   "metadata": {},
   "outputs": [],
   "source": [
    "data_df.to_csv(\"ML_Static_Dataframe.csv\", index=False)"
   ]
  },
  {
   "cell_type": "code",
   "execution_count": null,
   "id": "c625395a",
   "metadata": {},
   "outputs": [],
   "source": []
  }
 ],
 "metadata": {
  "kernelspec": {
   "display_name": "mlenv",
   "language": "python",
   "name": "mlenv"
  },
  "language_info": {
   "codemirror_mode": {
    "name": "ipython",
    "version": 3
   },
   "file_extension": ".py",
   "mimetype": "text/x-python",
   "name": "python",
   "nbconvert_exporter": "python",
   "pygments_lexer": "ipython3",
   "version": "3.7.11"
  }
 },
 "nbformat": 4,
 "nbformat_minor": 5
}
