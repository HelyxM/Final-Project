{
 "cells": [
  {
   "cell_type": "code",
   "execution_count": 1,
   "id": "7ea034a4",
   "metadata": {},
   "outputs": [],
   "source": [
    "# Initial imports.\n",
    "import numpy as np\n",
    "import pandas as pd\n",
    "from path import Path\n",
    "from sklearn.ensemble import RandomForestRegressor\n",
    "from sklearn.preprocessing import StandardScaler\n",
    "from sklearn.model_selection import train_test_split\n",
    "from sklearn import metrics\n",
    "from sklearn.metrics import mean_squared_error, mean_absolute_error"
   ]
  },
  {
   "cell_type": "code",
   "execution_count": 2,
   "id": "3a74f47c",
   "metadata": {},
   "outputs": [
    {
     "data": {
      "text/html": [
       "<div>\n",
       "<style scoped>\n",
       "    .dataframe tbody tr th:only-of-type {\n",
       "        vertical-align: middle;\n",
       "    }\n",
       "\n",
       "    .dataframe tbody tr th {\n",
       "        vertical-align: top;\n",
       "    }\n",
       "\n",
       "    .dataframe thead th {\n",
       "        text-align: right;\n",
       "    }\n",
       "</style>\n",
       "<table border=\"1\" class=\"dataframe\">\n",
       "  <thead>\n",
       "    <tr style=\"text-align: right;\">\n",
       "      <th></th>\n",
       "      <th>userId</th>\n",
       "      <th>movieId</th>\n",
       "      <th>rating</th>\n",
       "      <th>timestamp</th>\n",
       "      <th>title</th>\n",
       "      <th>genres</th>\n",
       "    </tr>\n",
       "  </thead>\n",
       "  <tbody>\n",
       "    <tr>\n",
       "      <th>0</th>\n",
       "      <td>1</td>\n",
       "      <td>296</td>\n",
       "      <td>5.0</td>\n",
       "      <td>1147880044</td>\n",
       "      <td>Pulp Fiction (1994)</td>\n",
       "      <td>Comedy|Crime|Drama|Thriller</td>\n",
       "    </tr>\n",
       "    <tr>\n",
       "      <th>1</th>\n",
       "      <td>1</td>\n",
       "      <td>306</td>\n",
       "      <td>3.5</td>\n",
       "      <td>1147868817</td>\n",
       "      <td>Three Colors: Red (Trois couleurs: Rouge) (1994)</td>\n",
       "      <td>Drama</td>\n",
       "    </tr>\n",
       "    <tr>\n",
       "      <th>2</th>\n",
       "      <td>1</td>\n",
       "      <td>307</td>\n",
       "      <td>5.0</td>\n",
       "      <td>1147868828</td>\n",
       "      <td>Three Colors: Blue (Trois couleurs: Bleu) (1993)</td>\n",
       "      <td>Drama</td>\n",
       "    </tr>\n",
       "    <tr>\n",
       "      <th>3</th>\n",
       "      <td>1</td>\n",
       "      <td>665</td>\n",
       "      <td>5.0</td>\n",
       "      <td>1147878820</td>\n",
       "      <td>Little Buddha (1993)</td>\n",
       "      <td>Drama</td>\n",
       "    </tr>\n",
       "    <tr>\n",
       "      <th>4</th>\n",
       "      <td>1</td>\n",
       "      <td>899</td>\n",
       "      <td>3.5</td>\n",
       "      <td>1147868510</td>\n",
       "      <td>Singin' in the Rain (1952)</td>\n",
       "      <td>Comedy|Musical|Romance</td>\n",
       "    </tr>\n",
       "  </tbody>\n",
       "</table>\n",
       "</div>"
      ],
      "text/plain": [
       "   userId  movieId  rating   timestamp  \\\n",
       "0       1      296     5.0  1147880044   \n",
       "1       1      306     3.5  1147868817   \n",
       "2       1      307     5.0  1147868828   \n",
       "3       1      665     5.0  1147878820   \n",
       "4       1      899     3.5  1147868510   \n",
       "\n",
       "                                              title  \\\n",
       "0                               Pulp Fiction (1994)   \n",
       "1  Three Colors: Red (Trois couleurs: Rouge) (1994)   \n",
       "2  Three Colors: Blue (Trois couleurs: Bleu) (1993)   \n",
       "3                              Little Buddha (1993)   \n",
       "4                        Singin' in the Rain (1952)   \n",
       "\n",
       "                        genres  \n",
       "0  Comedy|Crime|Drama|Thriller  \n",
       "1                        Drama  \n",
       "2                        Drama  \n",
       "3                        Drama  \n",
       "4       Comedy|Musical|Romance  "
      ]
     },
     "execution_count": 2,
     "metadata": {},
     "output_type": "execute_result"
    }
   ],
   "source": [
    "# Loading data\n",
    "file_path = Path(\"Resources/Movie_Data.csv\")\n",
    "movies_df = pd.read_csv(file_path)\n",
    "movies_df.head()"
   ]
  },
  {
   "cell_type": "code",
   "execution_count": 3,
   "id": "bafd4c02",
   "metadata": {},
   "outputs": [
    {
     "data": {
      "text/plain": [
       "userId         int64\n",
       "movieId        int64\n",
       "rating       float64\n",
       "timestamp      int64\n",
       "title         object\n",
       "genres        object\n",
       "dtype: object"
      ]
     },
     "execution_count": 3,
     "metadata": {},
     "output_type": "execute_result"
    }
   ],
   "source": [
    "movies_df.dtypes"
   ]
  },
  {
   "cell_type": "code",
   "execution_count": 4,
   "id": "7a4f9d32",
   "metadata": {},
   "outputs": [
    {
     "data": {
      "text/html": [
       "<div>\n",
       "<style scoped>\n",
       "    .dataframe tbody tr th:only-of-type {\n",
       "        vertical-align: middle;\n",
       "    }\n",
       "\n",
       "    .dataframe tbody tr th {\n",
       "        vertical-align: top;\n",
       "    }\n",
       "\n",
       "    .dataframe thead th {\n",
       "        text-align: right;\n",
       "    }\n",
       "</style>\n",
       "<table border=\"1\" class=\"dataframe\">\n",
       "  <thead>\n",
       "    <tr style=\"text-align: right;\">\n",
       "      <th></th>\n",
       "      <th>userId</th>\n",
       "      <th>movieId</th>\n",
       "      <th>rating</th>\n",
       "      <th>timestamp</th>\n",
       "      <th>genres</th>\n",
       "    </tr>\n",
       "  </thead>\n",
       "  <tbody>\n",
       "    <tr>\n",
       "      <th>0</th>\n",
       "      <td>1</td>\n",
       "      <td>296</td>\n",
       "      <td>5.0</td>\n",
       "      <td>1147880044</td>\n",
       "      <td>Comedy|Crime|Drama|Thriller</td>\n",
       "    </tr>\n",
       "    <tr>\n",
       "      <th>1</th>\n",
       "      <td>1</td>\n",
       "      <td>306</td>\n",
       "      <td>3.5</td>\n",
       "      <td>1147868817</td>\n",
       "      <td>Drama</td>\n",
       "    </tr>\n",
       "    <tr>\n",
       "      <th>2</th>\n",
       "      <td>1</td>\n",
       "      <td>307</td>\n",
       "      <td>5.0</td>\n",
       "      <td>1147868828</td>\n",
       "      <td>Drama</td>\n",
       "    </tr>\n",
       "    <tr>\n",
       "      <th>3</th>\n",
       "      <td>1</td>\n",
       "      <td>665</td>\n",
       "      <td>5.0</td>\n",
       "      <td>1147878820</td>\n",
       "      <td>Drama</td>\n",
       "    </tr>\n",
       "    <tr>\n",
       "      <th>4</th>\n",
       "      <td>1</td>\n",
       "      <td>899</td>\n",
       "      <td>3.5</td>\n",
       "      <td>1147868510</td>\n",
       "      <td>Comedy|Musical|Romance</td>\n",
       "    </tr>\n",
       "    <tr>\n",
       "      <th>5</th>\n",
       "      <td>1</td>\n",
       "      <td>1088</td>\n",
       "      <td>4.0</td>\n",
       "      <td>1147868495</td>\n",
       "      <td>Drama|Musical|Romance</td>\n",
       "    </tr>\n",
       "  </tbody>\n",
       "</table>\n",
       "</div>"
      ],
      "text/plain": [
       "   userId  movieId  rating   timestamp                       genres\n",
       "0       1      296     5.0  1147880044  Comedy|Crime|Drama|Thriller\n",
       "1       1      306     3.5  1147868817                        Drama\n",
       "2       1      307     5.0  1147868828                        Drama\n",
       "3       1      665     5.0  1147878820                        Drama\n",
       "4       1      899     3.5  1147868510       Comedy|Musical|Romance\n",
       "5       1     1088     4.0  1147868495        Drama|Musical|Romance"
      ]
     },
     "execution_count": 4,
     "metadata": {},
     "output_type": "execute_result"
    }
   ],
   "source": [
    "# Preprocess the data\n",
    "\n",
    "# Drop the null columns where all values are null\n",
    "movies_df = movies_df.dropna(axis='columns', how='all')\n",
    "\n",
    "# Drop the null rows\n",
    "movies_df = movies_df.dropna()\n",
    "\n",
    "# Drop title column\n",
    "movies_df = movies_df.drop(['title'], axis=1)\n",
    "\n",
    "\n",
    "\n",
    "movies_df\n"
   ]
  },
  {
   "cell_type": "code",
   "execution_count": 5,
   "id": "67a0887e",
   "metadata": {},
   "outputs": [
    {
     "data": {
      "text/plain": [
       "Index(['genres'], dtype='object')"
      ]
     },
     "execution_count": 5,
     "metadata": {},
     "output_type": "execute_result"
    }
   ],
   "source": [
    "movies_df.select_dtypes(include=['object']).columns"
   ]
  },
  {
   "cell_type": "code",
   "execution_count": 6,
   "id": "77651bc7",
   "metadata": {},
   "outputs": [
    {
     "data": {
      "text/html": [
       "<div>\n",
       "<style scoped>\n",
       "    .dataframe tbody tr th:only-of-type {\n",
       "        vertical-align: middle;\n",
       "    }\n",
       "\n",
       "    .dataframe tbody tr th {\n",
       "        vertical-align: top;\n",
       "    }\n",
       "\n",
       "    .dataframe thead th {\n",
       "        text-align: right;\n",
       "    }\n",
       "</style>\n",
       "<table border=\"1\" class=\"dataframe\">\n",
       "  <thead>\n",
       "    <tr style=\"text-align: right;\">\n",
       "      <th></th>\n",
       "      <th>userId</th>\n",
       "      <th>movieId</th>\n",
       "      <th>rating</th>\n",
       "      <th>timestamp</th>\n",
       "      <th>genres_Comedy|Crime|Drama|Thriller</th>\n",
       "      <th>genres_Comedy|Musical|Romance</th>\n",
       "      <th>genres_Drama</th>\n",
       "      <th>genres_Drama|Musical|Romance</th>\n",
       "    </tr>\n",
       "  </thead>\n",
       "  <tbody>\n",
       "    <tr>\n",
       "      <th>0</th>\n",
       "      <td>1</td>\n",
       "      <td>296</td>\n",
       "      <td>5.0</td>\n",
       "      <td>1147880044</td>\n",
       "      <td>1</td>\n",
       "      <td>0</td>\n",
       "      <td>0</td>\n",
       "      <td>0</td>\n",
       "    </tr>\n",
       "    <tr>\n",
       "      <th>1</th>\n",
       "      <td>1</td>\n",
       "      <td>306</td>\n",
       "      <td>3.5</td>\n",
       "      <td>1147868817</td>\n",
       "      <td>0</td>\n",
       "      <td>0</td>\n",
       "      <td>1</td>\n",
       "      <td>0</td>\n",
       "    </tr>\n",
       "    <tr>\n",
       "      <th>2</th>\n",
       "      <td>1</td>\n",
       "      <td>307</td>\n",
       "      <td>5.0</td>\n",
       "      <td>1147868828</td>\n",
       "      <td>0</td>\n",
       "      <td>0</td>\n",
       "      <td>1</td>\n",
       "      <td>0</td>\n",
       "    </tr>\n",
       "    <tr>\n",
       "      <th>3</th>\n",
       "      <td>1</td>\n",
       "      <td>665</td>\n",
       "      <td>5.0</td>\n",
       "      <td>1147878820</td>\n",
       "      <td>0</td>\n",
       "      <td>0</td>\n",
       "      <td>1</td>\n",
       "      <td>0</td>\n",
       "    </tr>\n",
       "    <tr>\n",
       "      <th>4</th>\n",
       "      <td>1</td>\n",
       "      <td>899</td>\n",
       "      <td>3.5</td>\n",
       "      <td>1147868510</td>\n",
       "      <td>0</td>\n",
       "      <td>1</td>\n",
       "      <td>0</td>\n",
       "      <td>0</td>\n",
       "    </tr>\n",
       "  </tbody>\n",
       "</table>\n",
       "</div>"
      ],
      "text/plain": [
       "   userId  movieId  rating   timestamp  genres_Comedy|Crime|Drama|Thriller  \\\n",
       "0       1      296     5.0  1147880044                                   1   \n",
       "1       1      306     3.5  1147868817                                   0   \n",
       "2       1      307     5.0  1147868828                                   0   \n",
       "3       1      665     5.0  1147878820                                   0   \n",
       "4       1      899     3.5  1147868510                                   0   \n",
       "\n",
       "   genres_Comedy|Musical|Romance  genres_Drama  genres_Drama|Musical|Romance  \n",
       "0                              0             0                             0  \n",
       "1                              0             1                             0  \n",
       "2                              0             1                             0  \n",
       "3                              0             1                             0  \n",
       "4                              1             0                             0  "
      ]
     },
     "execution_count": 6,
     "metadata": {},
     "output_type": "execute_result"
    }
   ],
   "source": [
    "movies_df = pd.get_dummies(movies_df, columns = ['genres'])\n",
    "movies_df.head()\n",
    "\n",
    "# instead of using get_dummies, i need to bucket the genres differently. "
   ]
  },
  {
   "cell_type": "code",
   "execution_count": 7,
   "id": "0c9f1023",
   "metadata": {},
   "outputs": [],
   "source": [
    "X = movies_df\n",
    "\n",
    "\n",
    "y = movies_df[['rating']]"
   ]
  },
  {
   "cell_type": "code",
   "execution_count": 8,
   "id": "45d4c4d3",
   "metadata": {},
   "outputs": [
    {
     "data": {
      "text/html": [
       "<div>\n",
       "<style scoped>\n",
       "    .dataframe tbody tr th:only-of-type {\n",
       "        vertical-align: middle;\n",
       "    }\n",
       "\n",
       "    .dataframe tbody tr th {\n",
       "        vertical-align: top;\n",
       "    }\n",
       "\n",
       "    .dataframe thead th {\n",
       "        text-align: right;\n",
       "    }\n",
       "</style>\n",
       "<table border=\"1\" class=\"dataframe\">\n",
       "  <thead>\n",
       "    <tr style=\"text-align: right;\">\n",
       "      <th></th>\n",
       "      <th>userId</th>\n",
       "      <th>movieId</th>\n",
       "      <th>rating</th>\n",
       "      <th>timestamp</th>\n",
       "      <th>genres_Comedy|Crime|Drama|Thriller</th>\n",
       "      <th>genres_Comedy|Musical|Romance</th>\n",
       "      <th>genres_Drama</th>\n",
       "      <th>genres_Drama|Musical|Romance</th>\n",
       "    </tr>\n",
       "  </thead>\n",
       "  <tbody>\n",
       "    <tr>\n",
       "      <th>count</th>\n",
       "      <td>6.0</td>\n",
       "      <td>6.000000</td>\n",
       "      <td>6.000000</td>\n",
       "      <td>6.000000e+00</td>\n",
       "      <td>6.000000</td>\n",
       "      <td>6.000000</td>\n",
       "      <td>6.000000</td>\n",
       "      <td>6.000000</td>\n",
       "    </tr>\n",
       "    <tr>\n",
       "      <th>mean</th>\n",
       "      <td>1.0</td>\n",
       "      <td>593.500000</td>\n",
       "      <td>4.333333</td>\n",
       "      <td>1.147872e+09</td>\n",
       "      <td>0.166667</td>\n",
       "      <td>0.166667</td>\n",
       "      <td>0.500000</td>\n",
       "      <td>0.166667</td>\n",
       "    </tr>\n",
       "    <tr>\n",
       "      <th>std</th>\n",
       "      <td>0.0</td>\n",
       "      <td>345.316521</td>\n",
       "      <td>0.752773</td>\n",
       "      <td>5.576639e+03</td>\n",
       "      <td>0.408248</td>\n",
       "      <td>0.408248</td>\n",
       "      <td>0.547723</td>\n",
       "      <td>0.408248</td>\n",
       "    </tr>\n",
       "    <tr>\n",
       "      <th>min</th>\n",
       "      <td>1.0</td>\n",
       "      <td>296.000000</td>\n",
       "      <td>3.500000</td>\n",
       "      <td>1.147868e+09</td>\n",
       "      <td>0.000000</td>\n",
       "      <td>0.000000</td>\n",
       "      <td>0.000000</td>\n",
       "      <td>0.000000</td>\n",
       "    </tr>\n",
       "    <tr>\n",
       "      <th>25%</th>\n",
       "      <td>1.0</td>\n",
       "      <td>306.250000</td>\n",
       "      <td>3.625000</td>\n",
       "      <td>1.147869e+09</td>\n",
       "      <td>0.000000</td>\n",
       "      <td>0.000000</td>\n",
       "      <td>0.000000</td>\n",
       "      <td>0.000000</td>\n",
       "    </tr>\n",
       "    <tr>\n",
       "      <th>50%</th>\n",
       "      <td>1.0</td>\n",
       "      <td>486.000000</td>\n",
       "      <td>4.500000</td>\n",
       "      <td>1.147869e+09</td>\n",
       "      <td>0.000000</td>\n",
       "      <td>0.000000</td>\n",
       "      <td>0.500000</td>\n",
       "      <td>0.000000</td>\n",
       "    </tr>\n",
       "    <tr>\n",
       "      <th>75%</th>\n",
       "      <td>1.0</td>\n",
       "      <td>840.500000</td>\n",
       "      <td>5.000000</td>\n",
       "      <td>1.147876e+09</td>\n",
       "      <td>0.000000</td>\n",
       "      <td>0.000000</td>\n",
       "      <td>1.000000</td>\n",
       "      <td>0.000000</td>\n",
       "    </tr>\n",
       "    <tr>\n",
       "      <th>max</th>\n",
       "      <td>1.0</td>\n",
       "      <td>1088.000000</td>\n",
       "      <td>5.000000</td>\n",
       "      <td>1.147880e+09</td>\n",
       "      <td>1.000000</td>\n",
       "      <td>1.000000</td>\n",
       "      <td>1.000000</td>\n",
       "      <td>1.000000</td>\n",
       "    </tr>\n",
       "  </tbody>\n",
       "</table>\n",
       "</div>"
      ],
      "text/plain": [
       "       userId      movieId    rating     timestamp  \\\n",
       "count     6.0     6.000000  6.000000  6.000000e+00   \n",
       "mean      1.0   593.500000  4.333333  1.147872e+09   \n",
       "std       0.0   345.316521  0.752773  5.576639e+03   \n",
       "min       1.0   296.000000  3.500000  1.147868e+09   \n",
       "25%       1.0   306.250000  3.625000  1.147869e+09   \n",
       "50%       1.0   486.000000  4.500000  1.147869e+09   \n",
       "75%       1.0   840.500000  5.000000  1.147876e+09   \n",
       "max       1.0  1088.000000  5.000000  1.147880e+09   \n",
       "\n",
       "       genres_Comedy|Crime|Drama|Thriller  genres_Comedy|Musical|Romance  \\\n",
       "count                            6.000000                       6.000000   \n",
       "mean                             0.166667                       0.166667   \n",
       "std                              0.408248                       0.408248   \n",
       "min                              0.000000                       0.000000   \n",
       "25%                              0.000000                       0.000000   \n",
       "50%                              0.000000                       0.000000   \n",
       "75%                              0.000000                       0.000000   \n",
       "max                              1.000000                       1.000000   \n",
       "\n",
       "       genres_Drama  genres_Drama|Musical|Romance  \n",
       "count      6.000000                      6.000000  \n",
       "mean       0.500000                      0.166667  \n",
       "std        0.547723                      0.408248  \n",
       "min        0.000000                      0.000000  \n",
       "25%        0.000000                      0.000000  \n",
       "50%        0.500000                      0.000000  \n",
       "75%        1.000000                      0.000000  \n",
       "max        1.000000                      1.000000  "
      ]
     },
     "execution_count": 8,
     "metadata": {},
     "output_type": "execute_result"
    }
   ],
   "source": [
    "X.describe()"
   ]
  },
  {
   "cell_type": "code",
   "execution_count": 9,
   "id": "5aad4452",
   "metadata": {},
   "outputs": [
    {
     "data": {
      "text/plain": [
       "5.0    3\n",
       "3.5    2\n",
       "4.0    1\n",
       "Name: rating, dtype: int64"
      ]
     },
     "execution_count": 9,
     "metadata": {},
     "output_type": "execute_result"
    }
   ],
   "source": [
    "y['rating'].value_counts()"
   ]
  },
  {
   "cell_type": "code",
   "execution_count": 10,
   "id": "9e25b5a5",
   "metadata": {},
   "outputs": [],
   "source": [
    "# Splitting into Train and Test sets.\n",
    "X_train, X_test, y_train, y_test = train_test_split(X, y, random_state=78)"
   ]
  },
  {
   "cell_type": "code",
   "execution_count": 11,
   "id": "9b8ca425",
   "metadata": {},
   "outputs": [],
   "source": [
    "# Creating a StandardScaler instance.\n",
    "scaler = StandardScaler()\n",
    "# Fitting the Standard Scaler with the training data.\n",
    "X_scaler = scaler.fit(X_train)\n",
    "\n",
    "# Scaling the data.\n",
    "X_train_scaled = X_scaler.transform(X_train)\n",
    "X_test_scaled = X_scaler.transform(X_test)"
   ]
  },
  {
   "cell_type": "code",
   "execution_count": 12,
   "id": "2108eb70",
   "metadata": {},
   "outputs": [],
   "source": [
    "# Create a random forest Regressor\n",
    "k = 5\n",
    "rf_model = RandomForestRegressor(n_estimators=128, random_state=78, max_depth = k) "
   ]
  },
  {
   "cell_type": "code",
   "execution_count": 13,
   "id": "9942e958",
   "metadata": {},
   "outputs": [],
   "source": [
    "# Fitting the model\n",
    "# y_train.shape\n",
    "# rf_model = rf_model.fit(X_train_scaled, y_train)\n",
    "rf_model = rf_model.fit(X_train_scaled, y_train.values.ravel())\n",
    "# np.ravel(y_train)\n",
    "# y_train.values.ravel().shape"
   ]
  },
  {
   "cell_type": "code",
   "execution_count": 14,
   "id": "e612c9a3",
   "metadata": {},
   "outputs": [],
   "source": [
    "# Making predictions using the testing data.\n",
    "\n",
    "predictions = rf_model.predict(X_test_scaled)"
   ]
  },
  {
   "cell_type": "code",
   "execution_count": 18,
   "id": "ce0a5f70",
   "metadata": {},
   "outputs": [
    {
     "name": "stdout",
     "output_type": "stream",
     "text": [
      "MAE:  0.33203125\n",
      "MSE:  0.123077392578125\n"
     ]
    }
   ],
   "source": [
    "print('MAE: ', mean_absolute_error(y_test, predictions))\n",
    "print('MSE: ', mean_squared_error(y_test, predictions)) "
   ]
  },
  {
   "cell_type": "code",
   "execution_count": 23,
   "id": "902e5b98",
   "metadata": {},
   "outputs": [
    {
     "data": {
      "text/plain": [
       "0.855712890625"
      ]
     },
     "execution_count": 23,
     "metadata": {},
     "output_type": "execute_result"
    }
   ],
   "source": [
    "# train_scores = []\n",
    "# random_forest_models = []\n",
    "\n",
    "# train_scores.append(rf_model.score(X_train_scaled, y_train))\n",
    "rf_model.score(X_train_scaled, y_train)\n",
    "\n",
    "# random_forest_models.append(rf_model)"
   ]
  },
  {
   "cell_type": "code",
   "execution_count": 20,
   "id": "eff251a2",
   "metadata": {},
   "outputs": [
    {
     "data": {
      "text/plain": [
       "array([0.        , 0.16144646, 0.35317342, 0.34194007, 0.07232299,\n",
       "       0.        , 0.01437209, 0.05674497])"
      ]
     },
     "execution_count": 20,
     "metadata": {},
     "output_type": "execute_result"
    }
   ],
   "source": [
    "# Calculate feature importance in the Random Forest model.\n",
    "importances = rf_model.feature_importances_\n",
    "importances"
   ]
  },
  {
   "cell_type": "code",
   "execution_count": 21,
   "id": "dc0bc19e",
   "metadata": {},
   "outputs": [
    {
     "data": {
      "text/plain": [
       "[(0.3531734232001852, 'rating'),\n",
       " (0.341940066739353, 'timestamp'),\n",
       " (0.1614464598407506, 'movieId'),\n",
       " (0.07232299203753267, 'genres_Comedy|Crime|Drama|Thriller'),\n",
       " (0.056744969769055395, 'genres_Drama|Musical|Romance'),\n",
       " (0.014372088413123183, 'genres_Drama'),\n",
       " (0.0, 'userId'),\n",
       " (0.0, 'genres_Comedy|Musical|Romance')]"
      ]
     },
     "execution_count": 21,
     "metadata": {},
     "output_type": "execute_result"
    }
   ],
   "source": [
    "# We can sort the features by their importance.\n",
    "sorted(zip(rf_model.feature_importances_, X.columns), reverse=True)"
   ]
  },
  {
   "cell_type": "code",
   "execution_count": null,
   "id": "1d83f1e8",
   "metadata": {},
   "outputs": [],
   "source": [
    "#  note:  handle genres differently or is it ok? The above indicates that movie that falls in multiple genres have a higher importance.\n"
   ]
  }
 ],
 "metadata": {
  "kernelspec": {
   "display_name": "mlenv",
   "language": "python",
   "name": "mlenv"
  },
  "language_info": {
   "codemirror_mode": {
    "name": "ipython",
    "version": 3
   },
   "file_extension": ".py",
   "mimetype": "text/x-python",
   "name": "python",
   "nbconvert_exporter": "python",
   "pygments_lexer": "ipython3",
   "version": "3.7.11"
  }
 },
 "nbformat": 4,
 "nbformat_minor": 5
}
